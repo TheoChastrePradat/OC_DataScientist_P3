{
 "cells": [
  {
   "cell_type": "code",
   "execution_count": null,
   "id": "b0535391-f88d-482c-a410-573d68743947",
   "metadata": {},
   "outputs": [],
   "source": []
  }
 ],
 "metadata": {
  "kernelspec": {
   "display_name": "",
   "name": ""
  },
  "language_info": {
   "name": ""
  }
 },
 "nbformat": 4,
 "nbformat_minor": 5
}
